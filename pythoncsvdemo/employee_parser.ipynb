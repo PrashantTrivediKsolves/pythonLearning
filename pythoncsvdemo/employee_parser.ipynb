{
 "cells": [
  {
   "cell_type": "code",
   "execution_count": 11,
   "metadata": {},
   "outputs": [
    {
     "name": "stdout",
     "output_type": "stream",
     "text": [
      "[{'id': '101', 'name': 'Alice', 'department': 'Engineering', 'salary': 90000}, {'id': '102', 'name': 'Bob', 'department': 'HR', 'salary': 75000}, {'id': '103', 'name': 'Charlie', 'department': 'Marketing', 'salary': 80000}]\n",
      "Exported to JSON.\n"
     ]
    }
   ],
   "source": [
    "import csv\n",
    "import json\n",
    "\n",
    "# Read CSV\n",
    "employee_data = []\n",
    "with open('data/employee.csv', mode='r') as f:\n",
    "    reader = csv.DictReader(f)\n",
    "    for row in reader:\n",
    "        row['salary'] = int(row['salary'])  # Convert salary to integer\n",
    "        employee_data.append(row)\n",
    "\n",
    "# Preview data\n",
    "print(employee_data)\n",
    "\n",
    "# # Write to JSON\n",
    "with open('data/employees.json', mode='w') as f:\n",
    "    json.dump(employee_data, f, indent=4)\n",
    "\n",
    "print(\"Exported to JSON.\")\n"
   ]
  }
 ],
 "metadata": {
  "kernelspec": {
   "display_name": "Python 3",
   "language": "python",
   "name": "python3"
  },
  "language_info": {
   "codemirror_mode": {
    "name": "ipython",
    "version": 3
   },
   "file_extension": ".py",
   "mimetype": "text/x-python",
   "name": "python",
   "nbconvert_exporter": "python",
   "pygments_lexer": "ipython3",
   "version": "3.10.12"
  }
 },
 "nbformat": 4,
 "nbformat_minor": 2
}
