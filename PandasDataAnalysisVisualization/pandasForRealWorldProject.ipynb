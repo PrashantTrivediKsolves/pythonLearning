{
 "cells": [
  {
   "cell_type": "code",
   "execution_count": 29,
   "metadata": {},
   "outputs": [
    {
     "name": "stdout",
     "output_type": "stream",
     "text": [
      "   OrderID Customer Region Product  Quantity  UnitPrice  OrderDate  Sales\n",
      "0     1001    Alice   East   Phone         1        500 2024-01-01    500\n",
      "1     1002      Bob   West  Tablet         2        800 2024-01-03   1600\n",
      "2     1003    Alice   East  Laptop         1       1200 2024-01-04   1200\n",
      "3     1004    David  North   Phone         3        500 2024-01-06   1500\n",
      "4     1005      Bob   West  Tablet         1        800 2024-01-07    800\n",
      "5     1006      Eve   East  Laptop         2       1200 2024-01-10   2400\n"
     ]
    }
   ],
   "source": [
    "import pandas as pd\n",
    "\n",
    "data = {\n",
    "    'OrderID': [1001, 1002, 1003, 1004, 1005, 1006],\n",
    "    'Customer': ['Alice', 'Bob', 'Alice', 'David', 'Bob', 'Eve'],\n",
    "    'Region': ['East', 'West', 'East', 'North', 'West', 'East'],\n",
    "    'Product': ['Phone', 'Tablet', 'Laptop', 'Phone', 'Tablet', 'Laptop'],\n",
    "    'Quantity': [1, 2, 1, 3, 1, 2],\n",
    "    'UnitPrice': [500, 800, 1200, 500, 800, 1200],\n",
    "    'OrderDate': pd.to_datetime(['2024-01-01', '2024-01-03', '2024-01-04', '2024-01-06', '2024-01-07', '2024-01-10'])\n",
    "}\n",
    "\n",
    "df = pd.DataFrame(data)\n",
    "df['Sales'] = df['Quantity'] * df['UnitPrice']  # total sale value\n",
    "print(df)\n"
   ]
  },
  {
   "cell_type": "code",
   "execution_count": 30,
   "metadata": {},
   "outputs": [
    {
     "name": "stdout",
     "output_type": "stream",
     "text": [
      "Customer\n",
      "Alice    1700\n",
      "Bob      2400\n",
      "David    1500\n",
      "Eve      2400\n",
      "Name: Sales, dtype: int64\n"
     ]
    }
   ],
   "source": [
    "# Grouping\n",
    "# 1️⃣ Group by Customer\n",
    "\n",
    "print(df.groupby('Customer')['Sales'].sum())\n"
   ]
  },
  {
   "cell_type": "code",
   "execution_count": 31,
   "metadata": {},
   "outputs": [
    {
     "name": "stdout",
     "output_type": "stream",
     "text": [
      "       Quantity        Sales      \n",
      "            sum         mean   sum\n",
      "Region                            \n",
      "East          4  1366.666667  4100\n",
      "North         3  1500.000000  1500\n",
      "West          3  1200.000000  2400\n"
     ]
    }
   ],
   "source": [
    "# Group by Region with multiple aggregations\n",
    "\n",
    "print(df.groupby('Region').agg({\n",
    "    'Quantity': 'sum',\n",
    "    'Sales': ['mean', 'sum']\n",
    "}))\n",
    "\n",
    "#  Shows total quantity, average sales, and total sales per region."
   ]
  },
  {
   "cell_type": "code",
   "execution_count": 4,
   "metadata": {},
   "outputs": [
    {
     "name": "stdout",
     "output_type": "stream",
     "text": [
      "Product  Laptop  Phone  Tablet\n",
      "Region                        \n",
      "East       3600    500       0\n",
      "North         0   1500       0\n",
      "West          0      0    2400\n"
     ]
    }
   ],
   "source": [
    "pivot = df.pivot_table(values='Sales', index='Region', columns='Product', aggfunc='sum', fill_value=0)\n",
    "print(pivot)\n"
   ]
  },
  {
   "cell_type": "code",
   "execution_count": 5,
   "metadata": {},
   "outputs": [],
   "source": [
    "# Pivoting means transforming a long (or tall) DataFrame into a wide one. You do this by turning unique values in a column into new columns, and aggregating values accordingly"
   ]
  },
  {
   "cell_type": "code",
   "execution_count": 6,
   "metadata": {},
   "outputs": [
    {
     "name": "stdout",
     "output_type": "stream",
     "text": [
      "         date         city  temperature\n",
      "0  2024-06-01     New York           70\n",
      "1  2024-06-01  Los Angeles           75\n",
      "2  2024-06-02     New York           68\n",
      "3  2024-06-02  Los Angeles           74\n"
     ]
    }
   ],
   "source": [
    "import pandas as pd\n",
    "\n",
    "# Sample data\n",
    "df = pd.DataFrame({\n",
    "    'date': ['2024-06-01', '2024-06-01', '2024-06-02', '2024-06-02'],\n",
    "    'city': ['New York', 'Los Angeles', 'New York', 'Los Angeles'],\n",
    "    'temperature': [70, 75, 68, 74]\n",
    "})\n",
    "\n",
    "print(df)\n"
   ]
  },
  {
   "cell_type": "code",
   "execution_count": 7,
   "metadata": {},
   "outputs": [
    {
     "name": "stdout",
     "output_type": "stream",
     "text": [
      "city        Los Angeles  New York\n",
      "date                             \n",
      "2024-06-01           75        70\n",
      "2024-06-02           74        68\n",
      "hello\n"
     ]
    }
   ],
   "source": [
    "#  Pivot it to have cities as columns:\n",
    "pivot_df = df.pivot(index='date', columns='city', values='temperature')\n",
    "print(pivot_df)\n",
    "print(\"hello\")\n",
    "# print(\"pivot_df : \" , pivot_df)"
   ]
  },
  {
   "cell_type": "code",
   "execution_count": 8,
   "metadata": {},
   "outputs": [],
   "source": [
    "import pandas as pd\n",
    "\n",
    "df = pd.DataFrame({\n",
    "    'Date': ['2024-06-01', '2024-06-01', '2024-06-02', '2024-06-02'],\n",
    "    'City': ['New York', 'Los Angeles', 'New York', 'Los Angeles'],\n",
    "    'Temperature': [70, 75, 68, 74]\n",
    "})\n"
   ]
  },
  {
   "cell_type": "code",
   "execution_count": 9,
   "metadata": {},
   "outputs": [],
   "source": [
    "pivot_df = df.pivot(index='Date', columns='City', values='Temperature')\n"
   ]
  },
  {
   "cell_type": "code",
   "execution_count": 10,
   "metadata": {},
   "outputs": [
    {
     "name": "stdout",
     "output_type": "stream",
     "text": [
      "['2024-06-01' '2024-06-02']\n",
      "['New York' 'Los Angeles']\n"
     ]
    }
   ],
   "source": [
    "rows = df['Date'].unique()\n",
    "columns = df['City'].unique()\n",
    "\n",
    "print(rows)\n",
    "print(columns)\n"
   ]
  },
  {
   "cell_type": "code",
   "execution_count": 11,
   "metadata": {},
   "outputs": [
    {
     "data": {
      "text/html": [
       "<div>\n",
       "<style scoped>\n",
       "    .dataframe tbody tr th:only-of-type {\n",
       "        vertical-align: middle;\n",
       "    }\n",
       "\n",
       "    .dataframe tbody tr th {\n",
       "        vertical-align: top;\n",
       "    }\n",
       "\n",
       "    .dataframe thead th {\n",
       "        text-align: right;\n",
       "    }\n",
       "</style>\n",
       "<table border=\"1\" class=\"dataframe\">\n",
       "  <thead>\n",
       "    <tr style=\"text-align: right;\">\n",
       "      <th></th>\n",
       "      <th>New York</th>\n",
       "      <th>Los Angeles</th>\n",
       "    </tr>\n",
       "  </thead>\n",
       "  <tbody>\n",
       "    <tr>\n",
       "      <th>2024-06-01</th>\n",
       "      <td>NaN</td>\n",
       "      <td>NaN</td>\n",
       "    </tr>\n",
       "    <tr>\n",
       "      <th>2024-06-02</th>\n",
       "      <td>NaN</td>\n",
       "      <td>NaN</td>\n",
       "    </tr>\n",
       "  </tbody>\n",
       "</table>\n",
       "</div>"
      ],
      "text/plain": [
       "           New York Los Angeles\n",
       "2024-06-01      NaN         NaN\n",
       "2024-06-02      NaN         NaN"
      ]
     },
     "execution_count": 11,
     "metadata": {},
     "output_type": "execute_result"
    }
   ],
   "source": [
    "# Create an empty DataFrame\n",
    "result = pd.DataFrame(index=rows, columns=columns)\n",
    "result\n"
   ]
  },
  {
   "cell_type": "code",
   "execution_count": 12,
   "metadata": {},
   "outputs": [
    {
     "name": "stdout",
     "output_type": "stream",
     "text": [
      "           New York Los Angeles\n",
      "2024-06-01       70          75\n",
      "2024-06-02       68          74\n"
     ]
    }
   ],
   "source": [
    "for _, row in df.iterrows():\n",
    "    date = row['Date']\n",
    "    city = row['City']\n",
    "    temp = row['Temperature']\n",
    "    \n",
    "    result.loc[date, city] = temp\n",
    "print(result)\n"
   ]
  },
  {
   "cell_type": "code",
   "execution_count": 13,
   "metadata": {},
   "outputs": [
    {
     "name": "stdout",
     "output_type": "stream",
     "text": [
      "         Date         City  Temperature\n",
      "0  2024-06-01     New York           70\n",
      "1  2024-06-01     New York           72\n",
      "2  2024-06-01  Los Angeles           75\n",
      "3  2024-06-02     New York           68\n",
      "4  2024-06-02  Los Angeles           74\n"
     ]
    }
   ],
   "source": [
    "import pandas as pd\n",
    "\n",
    "data = {\n",
    "    'Date': ['2024-06-01', '2024-06-01', '2024-06-01', '2024-06-02', '2024-06-02'],\n",
    "    'City': ['New York', 'New York', 'Los Angeles', 'New York', 'Los Angeles'],\n",
    "    'Temperature': [70, 72, 75, 68, 74]\n",
    "}\n",
    "\n",
    "df = pd.DataFrame(data)\n",
    "print(df)\n"
   ]
  },
  {
   "cell_type": "code",
   "execution_count": 15,
   "metadata": {},
   "outputs": [
    {
     "data": {
      "text/html": [
       "<div>\n",
       "<style scoped>\n",
       "    .dataframe tbody tr th:only-of-type {\n",
       "        vertical-align: middle;\n",
       "    }\n",
       "\n",
       "    .dataframe tbody tr th {\n",
       "        vertical-align: top;\n",
       "    }\n",
       "\n",
       "    .dataframe thead th {\n",
       "        text-align: right;\n",
       "    }\n",
       "</style>\n",
       "<table border=\"1\" class=\"dataframe\">\n",
       "  <thead>\n",
       "    <tr style=\"text-align: right;\">\n",
       "      <th>City</th>\n",
       "      <th>Los Angeles</th>\n",
       "      <th>New York</th>\n",
       "    </tr>\n",
       "    <tr>\n",
       "      <th>Date</th>\n",
       "      <th></th>\n",
       "      <th></th>\n",
       "    </tr>\n",
       "  </thead>\n",
       "  <tbody>\n",
       "    <tr>\n",
       "      <th>2024-06-01</th>\n",
       "      <td>75.0</td>\n",
       "      <td>71.0</td>\n",
       "    </tr>\n",
       "    <tr>\n",
       "      <th>2024-06-02</th>\n",
       "      <td>74.0</td>\n",
       "      <td>68.0</td>\n",
       "    </tr>\n",
       "  </tbody>\n",
       "</table>\n",
       "</div>"
      ],
      "text/plain": [
       "City        Los Angeles  New York\n",
       "Date                             \n",
       "2024-06-01         75.0      71.0\n",
       "2024-06-02         74.0      68.0"
      ]
     },
     "execution_count": 15,
     "metadata": {},
     "output_type": "execute_result"
    }
   ],
   "source": [
    "df.pivot_table(index='Date', columns='City', values='Temperature')\n"
   ]
  },
  {
   "cell_type": "code",
   "execution_count": null,
   "metadata": {},
   "outputs": [
    {
     "name": "stdout",
     "output_type": "stream",
     "text": [
      "City        Los Angeles  New York\n",
      "Date                             \n",
      "2024-06-01         75.0      71.0\n",
      "2024-06-02         74.0      68.0\n"
     ]
    }
   ],
   "source": [
    "# pivot_df = df.pivot_table(index='Date', columns='City', values='Temperature', aggfunc='mean')\n",
    "# print(pivot_df)\n"
   ]
  },
  {
   "cell_type": "code",
   "execution_count": 18,
   "metadata": {},
   "outputs": [
    {
     "name": "stdout",
     "output_type": "stream",
     "text": [
      "City        Los Angeles  New York\n",
      "Date                             \n",
      "2024-06-01           75       142\n",
      "2024-06-02           74        68\n"
     ]
    }
   ],
   "source": [
    "pivot_df = df.pivot_table(index='Date', columns='City', values='Temperature', aggfunc='sum')\n",
    "print(pivot_df)"
   ]
  },
  {
   "cell_type": "code",
   "execution_count": 28,
   "metadata": {},
   "outputs": [
    {
     "data": {
      "text/html": [
       "<div>\n",
       "<style scoped>\n",
       "    .dataframe tbody tr th:only-of-type {\n",
       "        vertical-align: middle;\n",
       "    }\n",
       "\n",
       "    .dataframe tbody tr th {\n",
       "        vertical-align: top;\n",
       "    }\n",
       "\n",
       "    .dataframe thead th {\n",
       "        text-align: right;\n",
       "    }\n",
       "</style>\n",
       "<table border=\"1\" class=\"dataframe\">\n",
       "  <thead>\n",
       "    <tr style=\"text-align: right;\">\n",
       "      <th></th>\n",
       "      <th>OrderDate</th>\n",
       "      <th>Amount</th>\n",
       "    </tr>\n",
       "  </thead>\n",
       "  <tbody>\n",
       "    <tr>\n",
       "      <th>0</th>\n",
       "      <td>2023-01-10</td>\n",
       "      <td>100</td>\n",
       "    </tr>\n",
       "    <tr>\n",
       "      <th>1</th>\n",
       "      <td>2023-01-20</td>\n",
       "      <td>150</td>\n",
       "    </tr>\n",
       "    <tr>\n",
       "      <th>2</th>\n",
       "      <td>2023-02-15</td>\n",
       "      <td>200</td>\n",
       "    </tr>\n",
       "    <tr>\n",
       "      <th>3</th>\n",
       "      <td>2023-02-28</td>\n",
       "      <td>50</td>\n",
       "    </tr>\n",
       "    <tr>\n",
       "      <th>4</th>\n",
       "      <td>2023-03-01</td>\n",
       "      <td>300</td>\n",
       "    </tr>\n",
       "  </tbody>\n",
       "</table>\n",
       "</div>"
      ],
      "text/plain": [
       "   OrderDate  Amount\n",
       "0 2023-01-10     100\n",
       "1 2023-01-20     150\n",
       "2 2023-02-15     200\n",
       "3 2023-02-28      50\n",
       "4 2023-03-01     300"
      ]
     },
     "execution_count": 28,
     "metadata": {},
     "output_type": "execute_result"
    }
   ],
   "source": [
    "import pandas as pd\n",
    "\n",
    "data = {\n",
    "    'OrderDate': ['2023-01-10', '2023-01-20', '2023-02-15', '2023-02-28', '2023-03-01'],\n",
    "    'Amount': [100, 150, 200, 50, 300]\n",
    "}\n",
    "\n",
    "df = pd.DataFrame(data)\n",
    "df['OrderDate'] = pd.to_datetime(df['OrderDate'])\n",
    "df"
   ]
  },
  {
   "cell_type": "code",
   "execution_count": 21,
   "metadata": {},
   "outputs": [
    {
     "name": "stderr",
     "output_type": "stream",
     "text": [
      "/tmp/ipykernel_9604/3781636633.py:1: FutureWarning: 'M' is deprecated and will be removed in a future version, please use 'ME' instead.\n",
      "  monthly_total = df.set_index('OrderDate').resample('M').sum()\n"
     ]
    }
   ],
   "source": [
    "monthly_total = df.set_index('OrderDate').resample('M').sum()\n"
   ]
  },
  {
   "cell_type": "code",
   "execution_count": 22,
   "metadata": {},
   "outputs": [
    {
     "data": {
      "text/html": [
       "<div>\n",
       "<style scoped>\n",
       "    .dataframe tbody tr th:only-of-type {\n",
       "        vertical-align: middle;\n",
       "    }\n",
       "\n",
       "    .dataframe tbody tr th {\n",
       "        vertical-align: top;\n",
       "    }\n",
       "\n",
       "    .dataframe thead th {\n",
       "        text-align: right;\n",
       "    }\n",
       "</style>\n",
       "<table border=\"1\" class=\"dataframe\">\n",
       "  <thead>\n",
       "    <tr style=\"text-align: right;\">\n",
       "      <th></th>\n",
       "      <th>Amount</th>\n",
       "    </tr>\n",
       "    <tr>\n",
       "      <th>OrderDate</th>\n",
       "      <th></th>\n",
       "    </tr>\n",
       "  </thead>\n",
       "  <tbody>\n",
       "    <tr>\n",
       "      <th>2023-01-31</th>\n",
       "      <td>250</td>\n",
       "    </tr>\n",
       "    <tr>\n",
       "      <th>2023-02-28</th>\n",
       "      <td>250</td>\n",
       "    </tr>\n",
       "    <tr>\n",
       "      <th>2023-03-31</th>\n",
       "      <td>300</td>\n",
       "    </tr>\n",
       "  </tbody>\n",
       "</table>\n",
       "</div>"
      ],
      "text/plain": [
       "            Amount\n",
       "OrderDate         \n",
       "2023-01-31     250\n",
       "2023-02-28     250\n",
       "2023-03-31     300"
      ]
     },
     "execution_count": 22,
     "metadata": {},
     "output_type": "execute_result"
    }
   ],
   "source": [
    "monthly_total"
   ]
  },
  {
   "cell_type": "code",
   "execution_count": 23,
   "metadata": {},
   "outputs": [
    {
     "name": "stderr",
     "output_type": "stream",
     "text": [
      "/tmp/ipykernel_9604/400443409.py:17: FutureWarning: 'M' is deprecated and will be removed in a future version, please use 'ME' instead.\n",
      "  monthly_sales = df.set_index('OrderDate').resample('M').sum()\n"
     ]
    },
    {
     "name": "stdout",
     "output_type": "stream",
     "text": [
      "Monthly Sales Totals:\n",
      "             Amount\n",
      "OrderDate         \n",
      "2023-01-31     250\n",
      "2023-02-28     250\n",
      "2023-03-31     300\n"
     ]
    },
    {
     "data": {
      "image/png": "[encoded data removed]",
      "text/plain": [
       "<Figure size 640x480 with 1 Axes>"
      ]
     },
     "metadata": {},
     "output_type": "display_data"
    }
   ],
   "source": [
    "import pandas as pd\n",
    "import matplotlib.pyplot as plt\n",
    "\n",
    "# Sample data\n",
    "data = {\n",
    "    'OrderDate': ['2023-01-10', '2023-01-20', '2023-02-15', '2023-02-28', '2023-03-01'],\n",
    "    'Amount': [100, 150, 200, 50, 300]\n",
    "}\n",
    "\n",
    "# Step 1: Create DataFrame\n",
    "df = pd.DataFrame(data)\n",
    "\n",
    "# Step 2: Convert OrderDate to datetime\n",
    "df['OrderDate'] = pd.to_datetime(df['OrderDate'])\n",
    "\n",
    "# Step 3: Resample to Monthly Total\n",
    "monthly_sales = df.set_index('OrderDate').resample('M').sum()\n",
    "\n",
    "# Step 4: Display Result\n",
    "print(\"Monthly Sales Totals:\\n\", monthly_sales)\n",
    "\n",
    "# Step 5: Plot the result\n",
    "monthly_sales.plot(kind='bar', legend=False)\n",
    "plt.title(\"Monthly Sales Total\")\n",
    "plt.xlabel(\"Month\")\n",
    "plt.ylabel(\"Sales Amount\")\n",
    "plt.xticks(rotation=45)\n",
    "plt.grid(axis='y')\n",
    "plt.tight_layout()\n",
    "plt.show()\n"
   ]
  },
  {
   "cell_type": "code",
   "execution_count": 25,
   "metadata": {},
   "outputs": [
    {
     "name": "stdout",
     "output_type": "stream",
     "text": [
      "Original DataFrame:\n",
      "    Name  Math  Science\n",
      "0  Alice    90       85\n",
      "1    Bob    80       75\n",
      "\n",
      "Melted DataFrame:\n",
      "    Name  Subject  Score\n",
      "0  Alice     Math     90\n",
      "1    Bob     Math     80\n",
      "2  Alice  Science     85\n",
      "3    Bob  Science     75\n"
     ]
    }
   ],
   "source": [
    "import pandas as pd\n",
    "\n",
    "df = pd.DataFrame({\n",
    "    'Name': ['Alice', 'Bob'],\n",
    "    'Math': [90, 80],\n",
    "    'Science': [85, 75]\n",
    "})\n",
    "\n",
    "print(\"Original DataFrame:\")\n",
    "print(df)\n",
    "\n",
    "# Melt the DataFrame\n",
    "melted = pd.melt(df, id_vars=['Name'], value_vars=['Math', 'Science'], \n",
    "                 var_name='Subject', value_name='Score')\n",
    "\n",
    "print(\"\\nMelted DataFrame:\")\n",
    "print(melted)\n"
   ]
  },
  {
   "cell_type": "code",
   "execution_count": null,
   "metadata": {},
   "outputs": [],
   "source": [
    "# stack(): Wide ➡️ Long (multi-level index)\n",
    "# 🔹 What it does:\n",
    "# stack() compresses columns into the index — turning columns into rows."
   ]
  },
  {
   "cell_type": "code",
   "execution_count": 26,
   "metadata": {},
   "outputs": [
    {
     "name": "stdout",
     "output_type": "stream",
     "text": [
      "Original DataFrame:\n",
      "       Math  Science\n",
      "Alice    90       85\n",
      "Bob      80       75\n",
      "\n",
      "Stacked DataFrame:\n",
      "Alice  Math       90\n",
      "       Science    85\n",
      "Bob    Math       80\n",
      "       Science    75\n",
      "dtype: int64\n"
     ]
    }
   ],
   "source": [
    "df = pd.DataFrame({\n",
    "    'Math': [90, 80],\n",
    "    'Science': [85, 75]\n",
    "}, index=['Alice', 'Bob'])\n",
    "\n",
    "print(\"Original DataFrame:\")\n",
    "print(df)\n",
    "\n",
    "stacked = df.stack()\n",
    "\n",
    "print(\"\\nStacked DataFrame:\")\n",
    "print(stacked)\n"
   ]
  },
  {
   "cell_type": "code",
   "execution_count": 27,
   "metadata": {},
   "outputs": [
    {
     "name": "stdout",
     "output_type": "stream",
     "text": [
      "\n",
      "Unstacked DataFrame:\n",
      "       Math  Science\n",
      "Alice    90       85\n",
      "Bob      80       75\n"
     ]
    }
   ],
   "source": [
    "#  Summary Table:\n",
    "# Function\tConverts\tDescription\n",
    "# melt()\tWide ➡️ Long\tMakes one column per variable name/value\n",
    "# stack()\tWide ➡️ Long\tMoves columns into rows (multi-index)\n",
    "# unstack()\tLong ➡️ Wide\tMoves row index to columns\n",
    "\n",
    "\n",
    "\n",
    "\n",
    "unstacked = stacked.unstack()\n",
    "print(\"\\nUnstacked DataFrame:\")\n",
    "print(unstacked)\n"
   ]
  },
  {
   "cell_type": "code",
   "execution_count": null,
   "metadata": {},
   "outputs": [],
   "source": [
    "# Key Internal Objects Used by Pandas:\n",
    "# Index, MultiIndex: For handling levels of rows/columns.\n",
    "\n",
    "# DataFrame.values, DataFrame.columns, DataFrame.index: To loop and map values.\n",
    "\n",
    "# numpy.reshape() and broadcasting logic: Internally used to build efficient reshaped arrays.\n",
    "\n"
   ]
  }
 ],
 "metadata": {
  "kernelspec": {
   "display_name": "Python 3",
   "language": "python",
   "name": "python3"
  },
  "language_info": {
   "codemirror_mode": {
    "name": "ipython",
    "version": 3
   },
   "file_extension": ".py",
   "mimetype": "text/x-python",
   "name": "python",
   "nbconvert_exporter": "python",
   "pygments_lexer": "ipython3",
   "version": "3.10.12"
  }
 },
 "nbformat": 4,
 "nbformat_minor": 2
}
