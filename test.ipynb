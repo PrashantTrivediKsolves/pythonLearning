{
 "cells": [
  {
   "cell_type": "code",
   "execution_count": 2,
   "metadata": {},
   "outputs": [],
   "source": [
    "# import pandas as pd\n",
    "\n",
    "# # initialize list of lists\n",
    "# data = [['tom', 10], ['nick', 15], ['juli', 14]]\n",
    "\n",
    "# # Create the pandas DataFrame\n",
    "# df = pd.DataFrame(data, columns=['Name', 'Age'])\n",
    "\n",
    "# print(df)"
   ]
  },
  {
   "cell_type": "code",
   "execution_count": 5,
   "metadata": {},
   "outputs": [
    {
     "name": "stdout",
     "output_type": "stream",
     "text": [
      "('Alice', 'Bob', 'Charlie')\n"
     ]
    }
   ],
   "source": [
    "names = ['Alice', 'Bob', 'Charlie']\n",
    "scores = [90, 85, 88]\n",
    "\n",
    "combined = list(zip(names, scores))\n",
    "# print(combined)  # [('Alice', 90), ('Bob', 85), ('Charlie', 88)]\n",
    "\n",
    "print(\"The value is now combined as process the result according to the value given in the period of the time \")\n",
    "#print(\"combined\") \n",
    "print(combined)\n",
    "\n",
    "\n",
    "names_again, scores_again = zip(*combined)\n",
    "print(names_again)\n",
    "# print(zip(*combined))\n"
   ]
  },
  {
   "cell_type": "code",
   "execution_count": 9,
   "metadata": {},
   "outputs": [
    {
     "name": "stdout",
     "output_type": "stream",
     "text": [
      "[1, 2, 3, 4]\n",
      "[4, 3, 2, 1]\n",
      "[2, 4, 1, 3]\n"
     ]
    }
   ],
   "source": [
    "nums = [3, 1, 4, 2]\n",
    "print(sorted(nums))         # [1, 2, 3, 4]\n",
    "print(sorted(nums, reverse=True))  # [4, 3, 2, 1]\n",
    "\n",
    "nums.reverse()\n",
    "print(nums)  # [2, 4, 1, 3]\n"
   ]
  },
  {
   "cell_type": "code",
   "execution_count": 24,
   "metadata": {},
   "outputs": [
    {
     "name": "stdout",
     "output_type": "stream",
     "text": [
      "(4,)\n"
     ]
    }
   ],
   "source": [
    "import numpy as np\n",
    "arr = np.array([1,2,3,4])\n",
    "print(arr.shape)"
   ]
  },
  {
   "cell_type": "code",
   "execution_count": 4,
   "metadata": {},
   "outputs": [
    {
     "name": "stdout",
     "output_type": "stream",
     "text": [
      "(1, 2, 3)\n",
      "6\n"
     ]
    }
   ],
   "source": [
    "#  *args (Variable Positional Arguments)\n",
    "# Use *args to pass a variable number of positional arguments.\n",
    "def add_all(*args):\n",
    "    print(args)           # args is a tuple\n",
    "    return sum(args)\n",
    "\n",
    "print(add_all(1, 2, 3))   # Output: 6\n",
    "\n",
    "# *args → collects extra positional arguments into a tuple\n"
   ]
  },
  {
   "cell_type": "code",
   "execution_count": 7,
   "metadata": {},
   "outputs": [
    {
     "name": "stdout",
     "output_type": "stream",
     "text": [
      "{'name': 'Alice', 'age': 30}\n"
     ]
    }
   ],
   "source": [
    "#  **kwargs (Variable Keyword Arguments)\n",
    "# Use **kwargs to pass a variable number of keyword arguments.\n",
    "\n",
    "\n",
    "def print_info(**kwargs):\n",
    "    print(kwargs)  # kwargs is a dictionary\n",
    "\n",
    "print_info(name=\"Alice\", age=30)\n",
    "# Output: {'name': 'Alice', 'age': 30}\n",
    "\n",
    "# **kwargs → collects extra keyword arguments into a dictionary\n",
    "\n"
   ]
  },
  {
   "cell_type": "code",
   "execution_count": 9,
   "metadata": {},
   "outputs": [
    {
     "name": "stdout",
     "output_type": "stream",
     "text": [
      "Hello, Guest!\n",
      "Hello, Sam!\n"
     ]
    }
   ],
   "source": [
    "# Default Arguments\n",
    "# You can give default values to parameters.\n",
    "\n",
    "def greet(name=\"Guest\"):\n",
    "    print(f\"Hello, {name}!\")\n",
    "\n",
    "greet()          # Output: Hello, Guest!\n",
    "greet(\"Sam\")     # Output: Hello, Sam!\n"
   ]
  },
  {
   "cell_type": "markdown",
   "metadata": {},
   "source": []
  },
  {
   "cell_type": "code",
   "execution_count": 14,
   "metadata": {},
   "outputs": [
    {
     "name": "stdout",
     "output_type": "stream",
     "text": [
      "a: 1\n",
      "b: 3\n",
      "args: (4, 5)\n",
      "kwargs: {'x': 10, 'y': 20}\n"
     ]
    }
   ],
   "source": [
    "# Using All Together\n",
    "\n",
    "def example(a, b=2, *args, **kwargs):\n",
    "    print(f\"a: {a}\")\n",
    "    print(f\"b: {b}\")\n",
    "    print(f\"args: {args}\")\n",
    "    print(f\"kwargs: {kwargs}\")\n",
    "\n",
    "example(1, 3, 4, 5, x=10, y=20)\n"
   ]
  },
  {
   "cell_type": "code",
   "execution_count": 13,
   "metadata": {},
   "outputs": [
    {
     "name": "stdout",
     "output_type": "stream",
     "text": [
      "name : Prashant Trivedi\n"
     ]
    }
   ],
   "source": [
    "name = \"Prashant Trivedi\"\n",
    "print(f\"name : {name}\")"
   ]
  },
  {
   "cell_type": "code",
   "execution_count": 19,
   "metadata": {},
   "outputs": [
    {
     "name": "stdout",
     "output_type": "stream",
     "text": [
      "Name:Bob, Age: 30\n"
     ]
    }
   ],
   "source": [
    "# so Is it necessary to provide  curly brackets ?\n",
    "name = \"Bob\"\n",
    "age = 30\n",
    "print(\"Name:{}, Age: {}\".format(name, age))\n",
    "# Output: Name: Bob, Age: 30\n"
   ]
  },
  {
   "cell_type": "code",
   "execution_count": 20,
   "metadata": {},
   "outputs": [
    {
     "name": "stdout",
     "output_type": "stream",
     "text": [
      "Name : Prashant Trivedi\n"
     ]
    }
   ],
   "source": [
    "name = \"Prashant Trivedi\"\n",
    "print(\"Name : {}\".format(name))"
   ]
  },
  {
   "cell_type": "code",
   "execution_count": null,
   "metadata": {},
   "outputs": [],
   "source": []
  },
  {
   "cell_type": "code",
   "execution_count": null,
   "metadata": {},
   "outputs": [],
   "source": []
  },
  {
   "cell_type": "code",
   "execution_count": null,
   "metadata": {},
   "outputs": [],
   "source": []
  }
 ],
 "metadata": {
  "kernelspec": {
   "display_name": "Python 3",
   "language": "python",
   "name": "python3"
  },
  "language_info": {
   "codemirror_mode": {
    "name": "ipython",
    "version": 3
   },
   "file_extension": ".py",
   "mimetype": "text/x-python",
   "name": "python",
   "nbconvert_exporter": "python",
   "pygments_lexer": "ipython3",
   "version": "3.10.12"
  }
 },
 "nbformat": 4,
 "nbformat_minor": 2
}
